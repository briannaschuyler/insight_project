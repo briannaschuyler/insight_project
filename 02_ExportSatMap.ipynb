{
 "cells": [
  {
   "cell_type": "code",
   "execution_count": null,
   "metadata": {
    "collapsed": true
   },
   "outputs": [],
   "source": [
    "###################################################################################################\n",
    "# This script takes data from a database produced in 01_MakeAddressDatabase.ipynb and plots \n",
    "# satellite maps of each residence to be input into the neural network to see which roofs have \n",
    "# solar panels.\n",
    "###################################################################################################\n",
    "%matplotlib inline\n",
    "\n",
    "import urllib, StringIO\n",
    "from PIL import Image\n",
    "import pandas as pd\n",
    "\n",
    "import matplotlib.image as mpimg\n",
    "import matplotlib.pyplot as plt\n",
    "\n",
    "import googlemaps # from https://github.com/googlemaps/google-maps-services-python, installed using \"pip install -U googlemaps\""
   ]
  },
  {
   "cell_type": "code",
   "execution_count": null,
   "metadata": {
    "collapsed": false
   },
   "outputs": [],
   "source": [
    "path='/Users/brianna/Dropbox/Insight/solar/'\n",
    "\n",
    "########################################################\n",
    "############ TBD: write code to grab lat,lon coordinates \n",
    "############ of residences from the database so we can\n",
    "############ pop through and download all of the images.\n",
    "########################################################\n",
    "\n",
    "locations=pd.read_csv(path+'latlng/PA_SF.csv')\n",
    "\n"
   ]
  },
  {
   "cell_type": "code",
   "execution_count": null,
   "metadata": {
    "collapsed": false
   },
   "outputs": [],
   "source": [
    "# Input the parameters that we need, they're all listed and illustrated on:\n",
    "# https://developers.google.com/maps/documentation/static-maps/\n",
    "# to change the map type to satellite, check this page:\n",
    "# https://developers.google.com/maps/documentation/javascript/maptypes?hl=en\n"
   ]
  },
  {
   "cell_type": "code",
   "execution_count": null,
   "metadata": {
    "collapsed": false
   },
   "outputs": [],
   "source": [
    "for i in range(len(locations['AddLng'])):\n",
    "    if i %1000 == 0:\n",
    "        print(i)\n",
    "        print(str(locations['AddLng'][i])+', '+str(locations['AddLat'][i]))\n",
    "    "
   ]
  },
  {
   "cell_type": "code",
   "execution_count": null,
   "metadata": {
    "collapsed": true
   },
   "outputs": [],
   "source": [
    "# Set parameters for the image (size is the number of pixels, zoom is maxed out at 20, scale is maxed at 2)\n",
    "sizex=300\n",
    "sizey=300\n",
    "zoom = 20\n",
    "scale=2"
   ]
  },
  {
   "cell_type": "code",
   "execution_count": null,
   "metadata": {
    "collapsed": false
   },
   "outputs": [],
   "source": [
    "# Loop through all entries in the database and \n",
    "#for i in range(len(locations['AddLng'])):\n",
    "for i in range(500):\n",
    "\n",
    "    lat=locations['AddLat'][i]\n",
    "    lng=locations['AddLng'][i]\n",
    "    \n",
    "    gurl=\"https://maps.googleapis.com/maps/api/staticmap?\"\n",
    "    MapImgageURL = \"{gurl}maptype=satellite&center={lat},{lng}&scale={scale}&zoom={zoom}&size={sizex}x{sizey}&sensor=false\".format(\n",
    "        gurl=gurl,lat=lat, lng=lng, scale=scale, zoom=zoom, sizex=sizex, sizey=sizey)\n",
    "\n",
    "    #print(MapImgageURL)\n",
    "    mapname=path+'sat_maps/'+str(lat)+'_'+str(lng)+'_z'+str(zoom)+'_sc'+str(scale)+'_si'+str(sizex)+'.png'\n",
    "    MapImageReturn = urllib.urlretrieve(MapImgageURL, mapname)[0]\n",
    "    #GMImageArray = mpimg.imread(MapImageReturn)\n",
    "\n",
    "    # use pyplot version instead of the pylab version since Victor understands it better.\n",
    "    #plt.imshow(GMImageArray, interpolation='none')\n",
    "    \n",
    "    if i % 50 ==0:\n",
    "        print(i)"
   ]
  }
 ],
 "metadata": {
  "kernelspec": {
   "display_name": "Python 2",
   "language": "python",
   "name": "python2"
  },
  "language_info": {
   "codemirror_mode": {
    "name": "ipython",
    "version": 2
   },
   "file_extension": ".py",
   "mimetype": "text/x-python",
   "name": "python",
   "nbconvert_exporter": "python",
   "pygments_lexer": "ipython2",
   "version": "2.7.11"
  }
 },
 "nbformat": 4,
 "nbformat_minor": 0
}
