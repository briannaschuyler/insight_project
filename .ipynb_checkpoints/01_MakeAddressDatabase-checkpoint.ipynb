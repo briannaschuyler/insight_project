{
 "cells": [
  {
   "cell_type": "code",
   "execution_count": 1,
   "metadata": {
    "collapsed": false
   },
   "outputs": [
    {
     "name": "stdout",
     "output_type": "stream",
     "text": [
      "//anaconda/bin/python\r\n"
     ]
    }
   ],
   "source": [
    "!which python"
   ]
  },
  {
   "cell_type": "code",
   "execution_count": 2,
   "metadata": {
    "collapsed": true
   },
   "outputs": [],
   "source": [
    "###################################################################################################\n",
    "# This script walks through a latitude-longitude \"square\" and pings at regular intervals, grabbing \n",
    "# the nearest address and checking if it's residential (ie. 'premise').  If so, it adds both the \n",
    "# address and (lat,long) coordinates into a SQL database.\n",
    "###################################################################################################\n",
    "\n",
    "from sqlalchemy import create_engine # to work with PostgreSQL database\n",
    "from sqlalchemy_utils import database_exists, create_database # to work with PostgreSQL database\n",
    "import psycopg2  # to work with PostgreSQL database\n",
    "import pandas as pd\n",
    "import re # to read in file with api key info and search for the right key\n",
    "\n",
    "import time # to calculate how long it takes to run the main loop\n",
    "\n",
    "import googlemaps # from https://github.com/googlemaps/google-maps-services-python, installed using \"pip install -U googlemaps\""
   ]
  },
  {
   "cell_type": "code",
   "execution_count": 3,
   "metadata": {
    "collapsed": true
   },
   "outputs": [],
   "source": [
    "path='/Users/brianna/Dropbox/Insight/solar/'"
   ]
  },
  {
   "cell_type": "code",
   "execution_count": 4,
   "metadata": {
    "collapsed": true
   },
   "outputs": [],
   "source": [
    "# Get API keys from file so we can use the different APIs\n",
    "api_file = open(path+'code/api_keys.txt','r')\n",
    "api_text = api_file.read()\n",
    "\n",
    "# Open API for google maps\n",
    "googlemaps_api=re.findall('googlemaps_api=\\'(\\S+)\\'',api_text)\n",
    "gmaps = googlemaps.Client(key=googlemaps_api[0])\n"
   ]
  },
  {
   "cell_type": "code",
   "execution_count": 5,
   "metadata": {
    "collapsed": true
   },
   "outputs": [],
   "source": [
    "#In Python: Define a database name (we're using a dataset on births, so I call it \n",
    "# birth_db), and your username for your computer (CHANGE IT BELOW). \n",
    "\n",
    "#dbname = 'addresses_db'\n",
    "#username = 'brianna'"
   ]
  },
  {
   "cell_type": "code",
   "execution_count": 6,
   "metadata": {
    "collapsed": false
   },
   "outputs": [],
   "source": [
    "# 'engine' is a connection to a database\n",
    "# Here, we're using postgres, but sqlalchemy can connect to other things too.\n",
    "\n",
    "# To start postgres, open the Elephant application in Applications!\n",
    "\n",
    "#engine = create_engine('postgres://%s@localhost/%s'%(username,dbname))\n",
    "#print engine.url\n",
    "\n",
    "## create a database (if it doesn't exist)\n",
    "#if not database_exists(engine.url):\n",
    "#    create_database(engine.url)\n",
    "#print(database_exists(engine.url))\n"
   ]
  },
  {
   "cell_type": "code",
   "execution_count": 7,
   "metadata": {
    "collapsed": false
   },
   "outputs": [],
   "source": [
    "# Ok, I'm going to cheat for now and populate a dataframe using pandas, then pass it to the postgresql database\n",
    "\n",
    "# Make a dataframe with 100,000 rows that you can start to populate.\n",
    "# The number (10,000) is just a start so we're not creating a new row in each iteration\n",
    "nrows=10000\n",
    "df = pd.DataFrame(columns=['GridLat','GridLng','AddressString','AddLat','AddLng','LocationType'], index=range(nrows))"
   ]
  },
  {
   "cell_type": "code",
   "execution_count": 11,
   "metadata": {
    "collapsed": true
   },
   "outputs": [],
   "source": [
    "# Decide what latitude and longitude you want to walk over.\n",
    "\n",
    "# Start in southwest corner of Palo Alto (551 Junipero Serra)\n",
    "x0=-122.169380  # longitude is x, move west to east\n",
    "y0=37.414295    # latitude is y, move south to north\n",
    "\n",
    "# more positive longitude is going East (note that means less negative, since numbers are negative)\n",
    "# \n",
    "#xn=37.465530  # lat difference is 0.052861)\n",
    "#yn=-122.107286  # lng difference is -0.117031\n",
    "\n",
    "# Latitude is basically constant across the globe, 69.172 miles for each degree \n",
    "# Longitude is cos(latitude)* 69.172 mi\n",
    "# Latitude is ~0.65 radians in NorCal, so one degree longitude is about cos(.65)*69.172=55.0667 miles in this region\n",
    "LatStep=0.001 # Stepping East by 0.069172 mile increments (365 feet)\n",
    "LngStep=0.001 # Stepping North by 0.0550667 mile increments (290 feet)\n",
    "\n",
    "xsteps=100 # currently walks across a \n",
    "ysteps=100"
   ]
  },
  {
   "cell_type": "code",
   "execution_count": 14,
   "metadata": {
    "collapsed": false
   },
   "outputs": [
    {
     "name": "stdout",
     "output_type": "stream",
     "text": [
      "50\n",
      "100\n",
      "150\n",
      "200\n",
      "250\n",
      "300\n",
      "350\n",
      "400\n",
      "450\n",
      "500\n",
      "550\n",
      "600\n",
      "650\n",
      "700\n",
      "750\n",
      "800\n",
      "850\n",
      "900\n",
      "950\n",
      "1000\n",
      "1050\n",
      "1100\n",
      "1150\n",
      "1200\n",
      "1250\n",
      "1300\n",
      "1350\n",
      "1400\n",
      "1450\n",
      "1500\n",
      "1550\n",
      "1600\n",
      "1650\n",
      "1700\n",
      "1750\n",
      "1800\n",
      "1850\n",
      "1900\n",
      "1950\n",
      "2000\n",
      "2050\n",
      "2100\n",
      "2150\n",
      "2200\n",
      "2250\n",
      "2300\n",
      "2350\n",
      "2400\n",
      "2450\n",
      "2500\n",
      "2550\n",
      "2600\n",
      "2650\n",
      "2700\n",
      "2750\n",
      "2800\n",
      "2850\n",
      "2900\n",
      "2950\n",
      "3000\n",
      "3050\n",
      "3100\n",
      "3150\n",
      "3200\n",
      "3250\n",
      "4048.14701104\n"
     ]
    }
   ],
   "source": [
    "# Start a counter i to index which row you're populating in the dataframe\n",
    "start = time.time()\n",
    "i=y=x=0\n",
    "\n",
    "for x in range(xsteps):\n",
    "    for y in range(ysteps):\n",
    "        #Step through the latitude and longitude in a grid with LatStep and LngStep space between the points.\n",
    "        GridLng=x0+x*LngStep\n",
    "        GridLat=y0+y*LatStep\n",
    "        #print('GridLat: '+str(GridLat)+', GridLng: '+str(GridLng))\n",
    "        \n",
    "        # First, find the address that's most closely associated with the lat,lon coordinates\n",
    "        # on your grid.\n",
    "        ReverseGeocodeResult = gmaps.reverse_geocode((GridLat, GridLng))\n",
    "        AddressString = ReverseGeocodeResult[0]['formatted_address']\n",
    "\n",
    "        # if address is not already in dataframe AND LocationType is a rooftop, \n",
    "        # get the new address coordinates and populate the dataframe\n",
    "        if not any(df.AddressString == AddressString):\n",
    "            \n",
    "            # Now that you have the address, go back and find the exact lat,lng coordinates\n",
    "            GeocodeResult = gmaps.geocode(AddressString)\n",
    "            AddLat = GeocodeResult[0]['geometry']['location']['lat']\n",
    "            AddLng = GeocodeResult[0]['geometry']['location']['lng']\n",
    "\n",
    "            # We only want rooftops (no parks or other structures), so only add to the \n",
    "            # database if the 'location_type' == 'ROOFTOP'\n",
    "            LocationType=GeocodeResult[0]['geometry']['location_type']\n",
    "\n",
    "            #print('i: '+str(i)+', GridLat: '+str(GridLat)+', GridLng: '+str(GridLng)+', AddressString: '+AddressString+\n",
    "            #      ', AddLat: '+str(AddLat)+', AddLng: '+str(AddLng)+', LocationType: '+LocationType)\n",
    "\n",
    "            if LocationType == 'ROOFTOP':\n",
    "                df.GridLat[i]=GridLat; df.GridLng[i]=GridLng\n",
    "                df.AddLat[i]=AddLat; df.AddLng[i]=AddLng\n",
    "                df.AddressString[i]=AddressString; df.LocationType[i]=LocationType\n",
    "                i+=1\n",
    "                if i%50 == 0:\n",
    "                    print(i)\n",
    "end = time.time()\n",
    "print(end - start)"
   ]
  },
  {
   "cell_type": "code",
   "execution_count": 15,
   "metadata": {
    "collapsed": false
   },
   "outputs": [],
   "source": [
    "df.to_csv(path+'latlng/PaloAlto10000.csv')"
   ]
  }
 ],
 "metadata": {
  "kernelspec": {
   "display_name": "Python 2",
   "language": "python",
   "name": "python2"
  },
  "language_info": {
   "codemirror_mode": {
    "name": "ipython",
    "version": 2
   },
   "file_extension": ".py",
   "mimetype": "text/x-python",
   "name": "python",
   "nbconvert_exporter": "python",
   "pygments_lexer": "ipython2",
   "version": "2.7.11"
  }
 },
 "nbformat": 4,
 "nbformat_minor": 0
}
