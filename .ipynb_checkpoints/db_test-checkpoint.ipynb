{
 "cells": [
  {
   "cell_type": "code",
   "execution_count": 1,
   "metadata": {
    "collapsed": true
   },
   "outputs": [],
   "source": [
    "# Code to figure out how to open a database\n",
    "\n",
    "from sqlalchemy import create_engine # to work with PostgreSQL database\n",
    "from sqlalchemy_utils import database_exists, create_database # to work with PostgreSQL database\n",
    "import psycopg2  # to work with PostgreSQL database\n",
    "import pandas as pd\n",
    "import re # to read in file with api key info and search for the right key\n",
    "\n"
   ]
  },
  {
   "cell_type": "code",
   "execution_count": 4,
   "metadata": {
    "collapsed": true
   },
   "outputs": [],
   "source": [
    "path='/Users/brianna/Dropbox/Insight/solar/'"
   ]
  },
  {
   "cell_type": "code",
   "execution_count": 8,
   "metadata": {
    "collapsed": true
   },
   "outputs": [],
   "source": [
    "#In Python: Define a database name (we're using a dataset on births, so I call it \n",
    "# birth_db), and your username for your computer (CHANGE IT BELOW). \n",
    "\n",
    "dbname = 'locations'\n",
    "username = 'brianna'"
   ]
  },
  {
   "cell_type": "code",
   "execution_count": null,
   "metadata": {
    "collapsed": false
   },
   "outputs": [],
   "source": [
    "#sqlalchemy_utils.functions.create_database(url, encoding='utf8', template=None)\n",
    "\n",
    "# 'engine' is a connection to a database\n",
    "# Here, we're using postgres, but sqlalchemy can connect to other things too.\n",
    "\n",
    "# To start postgres, open the Elephant application in Applications!\n",
    "\n",
    "#engine = create_engine('postgres://%s@localhost/%s'%(username,dbname))\n",
    "#print engine.url\n",
    "\n",
    "## create a database (if it doesn't exist)\n",
    "#if not database_exists(engine.url):\n",
    "#    create_database(engine.url)\n",
    "#    print('database doesn\\'t yet exist')\n",
    "#else:\n",
    "#    print('database already exists')\n",
    "#print(database_exists(engine.url))\n",
    "\n",
    "\n",
    "#con = psycopg2.connect(dbname='locations', user='brianna', host='localhost', password='')\n",
    "\n",
    "#cur = con.cursor()\n",
    "\n",
    "#cur.execute(\"CREATE TABLE locations (GridLat float, GridLng float, AddressString varchar(255), AddLat float, AddLng float, LocationType varchar(255))\")\n",
    "\n",
    "#cur.execute(\"ALTER TABLE locations; ADD GridLat float\")\n",
    "#cur.execute(\"\")\n",
    "\n",
    "# load a database from CSV\n",
    "locations_data = pd.DataFrame.from_csv(path+'latlng/PaloAlto10000.csv')\n",
    "\n",
    "## insert data into database from Python (proof of concept - this won't be useful for big data, of course)\n",
    "## df is any pandas dataframe \n",
    "locations_data.to_sql(dbname, engine, if_exists='replace')\n",
    "\n",
    "\n",
    "# connect:\n",
    "con = None\n",
    "con = psycopg2.connect(database = 'locations', user = username)"
   ]
  },
  {
   "cell_type": "code",
   "execution_count": null,
   "metadata": {
    "collapsed": false
   },
   "outputs": [],
   "source": [
    "sql_query = \"\"\"\n",
    "SELECT * FROM locations WHERE GridLat > 37.4;\n",
    "\"\"\"\n",
    "locations_data_from_sql = pd.read_sql_query(sql_query,con)\n",
    "locations_data_from_sql.head()"
   ]
  },
  {
   "cell_type": "code",
   "execution_count": null,
   "metadata": {
    "collapsed": true
   },
   "outputs": [],
   "source": []
  }
 ],
 "metadata": {
  "kernelspec": {
   "display_name": "Python 2",
   "language": "python",
   "name": "python2"
  },
  "language_info": {
   "codemirror_mode": {
    "name": "ipython",
    "version": 2
   },
   "file_extension": ".py",
   "mimetype": "text/x-python",
   "name": "python",
   "nbconvert_exporter": "python",
   "pygments_lexer": "ipython2",
   "version": "2.7.11"
  }
 },
 "nbformat": 4,
 "nbformat_minor": 0
}
