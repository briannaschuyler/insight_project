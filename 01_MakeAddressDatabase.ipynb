{
 "cells": [
  {
   "cell_type": "code",
   "execution_count": null,
   "metadata": {
    "collapsed": true
   },
   "outputs": [],
   "source": [
    "###################################################################################################\n",
    "# This script walks through a latitude-longitude \"square\" and pings at regular intervals, grabbing \n",
    "# the nearest address and checking if it's residential (ie. 'premise').  If so, it adds both the \n",
    "# address and (lat,long) coordinates into a SQL database.\n",
    "###################################################################################################\n",
    "\n",
    "from sqlalchemy import create_engine # to work with PostgreSQL database\n",
    "from sqlalchemy_utils import database_exists, create_database # to work with PostgreSQL database\n",
    "import psycopg2  # to work with PostgreSQL database\n",
    "import pandas as pd\n",
    "import re # to read in file with api key info and search for the right key\n",
    "\n",
    "import time # to calculate how long it takes to run the main loop\n",
    "from math import cos # to calculate lat,lng\n",
    "import googlemaps # from https://github.com/googlemaps/google-maps-services-python, installed using \"pip install -U googlemaps\""
   ]
  },
  {
   "cell_type": "code",
   "execution_count": null,
   "metadata": {
    "collapsed": true
   },
   "outputs": [],
   "source": [
    "path='/Users/brianna/Dropbox/Insight/solar/'"
   ]
  },
  {
   "cell_type": "code",
   "execution_count": null,
   "metadata": {
    "collapsed": false
   },
   "outputs": [],
   "source": [
    "# Get API keys from file so we can use the different APIs\n",
    "api_file = open(path+'insight_project/api_keys/api_keys.txt','r')\n",
    "api_text = api_file.read()\n",
    "api_file.close()\n",
    "\n",
    "# Open API for google maps\n",
    "googlemaps_api=re.findall('googlemaps_api=\\'(\\S+)\\'',api_text)\n",
    "gmaps = googlemaps.Client(key=googlemaps_api[0])\n"
   ]
  },
  {
   "cell_type": "code",
   "execution_count": null,
   "metadata": {
    "collapsed": false
   },
   "outputs": [],
   "source": [
    "# Make a dataframe with 100,000 rows that you can start to populate.\n",
    "# The number (10,000) is just a start so we're not creating a new row in each iteration\n",
    "nrows=120000\n",
    "df = pd.DataFrame(columns=['GridLat','GridLng','AddressString','AddLat','AddLng','LocationType','PlaceID'], index=range(nrows))"
   ]
  },
  {
   "cell_type": "code",
   "execution_count": null,
   "metadata": {
    "collapsed": false
   },
   "outputs": [],
   "source": [
    "# Decide what latitude and longitude you want to walk over.\n",
    "\n",
    "# Palo Alto: Start in southwest corner of Palo Alto (551 Junipero Serra)\n",
    "# SF: Start off the west coast, travel 0.1723 degrees east (lng) and 0.117 degrees north (lat)\n",
    "x0=-122.5145  # longitude is x, move west to east\n",
    "#y0=37.6930    # latitude is y, move south to north\n",
    "#y0=37.6955    # latitude is y, move south to north\n",
    "y0=37.743\n",
    "xstop=-122.386 # instead of a for loop, just stop when you get to this longitude (East of SF)\n",
    "\n",
    "\n",
    "# more positive longitude is going East (note that means less negative, since numbers are negative)\n",
    "# \n",
    "#xn=37.465530  # lat difference is 0.052861)\n",
    "#yn=-122.107286  # lng difference is -0.117031\n",
    "\n",
    "# Latitude is basically constant across the globe, 69.172 miles for each degree \n",
    "# Longitude is cos(latitude)* 69.172 mi\n",
    "# Latitude is ~0.65 radians in NorCal, so one degree longitude is about cos(.65)*69.172=55.0667 miles in this region\n",
    "LatStep=0.001 # Stepping East by (69.172*.001) mile increments (??? feet)\n",
    "LngStep=0.001 # Stepping North by (55.0667*.001) mile increments (??? feet)\n",
    "print('Latitude step is '+str(round((LatStep*69.172)*5280,0))+' feet')\n",
    "print('Longitude step is '+str(round((cos(.65)*LngStep*69.172)*5280))+' feet')\n",
    "\n",
    "#xsteps=100 # currently walks 100*0.0003=0.15 degrees longitude\n",
    "ysteps=67 # currently walks 100*0.0005=0.117 degrees latitude"
   ]
  },
  {
   "cell_type": "code",
   "execution_count": null,
   "metadata": {
    "collapsed": false
   },
   "outputs": [],
   "source": [
    "# Start a counter i to index which row you're populating in the dataframe\n",
    "wholestart = time.time()\n",
    "i=y=x=0\n",
    "\n",
    "for y in range(ysteps):\n",
    "    #Step through the latitude lines in a grid with width=LatStep.\n",
    "    GridLat=y0+y*LatStep\n",
    "    print('Starting at new latitude line '+str(GridLat))\n",
    "\n",
    "    xloopstart = time.time()\n",
    "    GridLng=AddLng=x0\n",
    "    #for x in range(xsteps):\n",
    "    while GridLng < xstop:\n",
    "        # Step through each longitude line in this latitude. If the longitude of the \n",
    "        # nearest house is further east than the point on the grid where you were going to \n",
    "        # start, skip over to the most eastern longitude.\n",
    "        # (This will miss some houses, but I'm trying to employ the 20/80 \"close enough\" rule.)\n",
    "        #GridLng=x0+x*LngStep\n",
    "        GridLng+=LngStep\n",
    "        if GridLng < AddLng:\n",
    "            GridLng = AddLng\n",
    "\n",
    "        # First, find the address that's most closely associated with the lat,lon coordinates\n",
    "        # on your grid.\n",
    "        ReverseGeocodeResult = gmaps.reverse_geocode((GridLat, GridLng))\n",
    "        AddressString = ReverseGeocodeResult[0]['formatted_address']\n",
    "\n",
    "        # if address is not already in dataframe AND LocationType is a rooftop, \n",
    "        # get the new address coordinates and populate the dataframe\n",
    "        if not any(df.AddressString == AddressString):\n",
    "            \n",
    "            # Now that you have the address, go back and find the exact lat,lng coordinates\n",
    "            GeocodeResult = gmaps.geocode(AddressString)\n",
    "            AddLat = GeocodeResult[0]['geometry']['location']['lat']\n",
    "            AddLng = GeocodeResult[0]['geometry']['location']['lng']\n",
    "            PlaceID = GeocodeResult[0]['place_id']\n",
    "\n",
    "            # We only want rooftops (no parks or other structures), so only add to the \n",
    "            # database if the 'location_type' == 'ROOFTOP'\n",
    "            LocationType=GeocodeResult[0]['geometry']['location_type']\n",
    "\n",
    "            #print('i: '+str(i)+', GridLat: '+str(GridLat)+', GridLng: '+str(GridLng)+', AddressString: '+AddressString+\n",
    "            #      ', AddLat: '+str(AddLat)+', AddLng: '+str(AddLng)+', LocationType: '+LocationType)\n",
    "\n",
    "            try:\n",
    "                if LocationType == 'ROOFTOP':\n",
    "                    df.GridLat[i]=GridLat; df.GridLng[i]=GridLng\n",
    "                    df.AddLat[i]=AddLat; df.AddLng[i]=AddLng\n",
    "                    df.AddressString[i]=AddressString; df.LocationType[i]=LocationType\n",
    "                    df.PlaceID[i] = PlaceID\n",
    "                    i+=1\n",
    "                    if i%50 == 0:\n",
    "                        print(i)\n",
    "            except TypeError:\n",
    "                pass;\n",
    "    xloopend = time.time()\n",
    "    print('Found '+str(i)+  ' at lat '+str(GridLat)+' in '+str(round(xloopend - xloopstart,2))+' sec')\n",
    "\n",
    "wholeend = time.time()\n",
    "print(wholeend - wholestart)"
   ]
  },
  {
   "cell_type": "code",
   "execution_count": null,
   "metadata": {
    "collapsed": false
   },
   "outputs": [],
   "source": [
    "df.head()"
   ]
  },
  {
   "cell_type": "code",
   "execution_count": null,
   "metadata": {
    "collapsed": false
   },
   "outputs": [],
   "source": [
    "df.to_csv(path+'latlng/SF10000d.csv')"
   ]
  },
  {
   "cell_type": "code",
   "execution_count": null,
   "metadata": {
    "collapsed": true
   },
   "outputs": [],
   "source": []
  }
 ],
 "metadata": {
  "kernelspec": {
   "display_name": "Python 2",
   "language": "python",
   "name": "python2"
  },
  "language_info": {
   "codemirror_mode": {
    "name": "ipython",
    "version": 2
   },
   "file_extension": ".py",
   "mimetype": "text/x-python",
   "name": "python",
   "nbconvert_exporter": "python",
   "pygments_lexer": "ipython2",
   "version": "2.7.11"
  }
 },
 "nbformat": 4,
 "nbformat_minor": 0
}
